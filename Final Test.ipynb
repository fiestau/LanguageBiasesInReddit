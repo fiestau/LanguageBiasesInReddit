{
 "cells": [
  {
   "cell_type": "code",
   "execution_count": 50,
   "metadata": {},
   "outputs": [
    {
     "name": "stderr",
     "output_type": "stream",
     "text": [
      "[nltk_data] Downloading package averaged_perceptron_tagger to\n",
      "[nltk_data]     C:\\Users\\User\\AppData\\Roaming\\nltk_data...\n",
      "[nltk_data]   Package averaged_perceptron_tagger is already up-to-\n",
      "[nltk_data]       date!\n",
      "[nltk_data] Downloading package vader_lexicon to\n",
      "[nltk_data]     C:\\Users\\User\\AppData\\Roaming\\nltk_data...\n",
      "[nltk_data]   Package vader_lexicon is already up-to-date!\n"
     ]
    },
    {
     "data": {
      "text/plain": [
       "<module 'DADDBias_ICWSM' from 'D:\\\\Projects\\\\LanguageBiasesInReddit-ICWSM20201\\\\Process\\\\ICWSMProcess\\\\DADDBias_ICWSM.py'>"
      ]
     },
     "execution_count": 50,
     "metadata": {},
     "output_type": "execute_result"
    }
   ],
   "source": [
    "from importlib import reload\n",
    "import DADDBias_ICWSM\n",
    "reload(DADDBias_ICWSM)"
   ]
  },
  {
   "cell_type": "markdown",
   "metadata": {},
   "source": [
    "# Train"
   ]
  },
  {
   "cell_type": "code",
   "execution_count": 3,
   "metadata": {},
   "outputs": [
    {
     "name": "stdout",
     "output_type": "stream",
     "text": [
      "->Starting with C:/Corpora/subreddits/subreddits/theredpill/comments.csv [body], output TrainedModels/trp_w4_f10_e100_d100, window 4, minf 1000, epochs 10, ndim 100\n",
      "\t...processing line 0\n",
      "\terror with row nan\n",
      "\t...processing line 500000\n",
      "\terror with row nan\n",
      "\terror with row nan\n",
      "\terror with row nan\n",
      "\t...processing line 1000000\n",
      "\terror with row nan\n",
      "\terror with row nan\n",
      "\terror with row nan\n",
      "\t...processing line 1500000\n",
      "\t...processing line 2000000\n",
      "\t...processing line 2500000\n",
      "Done reading all documents\n",
      "-> Output will be saved in TrainedModels/trp_w4_f10_e100_d100\n",
      "->->Starting training model TrainedModels/trp_w4_f10_e100_d100 with dimensions:100, minf:1000, epochs:10\n",
      "->-> Model saved in TrainedModels/trp_w4_f10_e100_d100\n",
      "-> Model creation ended in 0.13393020629882812 seconds\n"
     ]
    }
   ],
   "source": [
    "\n",
    "trainingSetups = [\n",
    "    #different dimensions\n",
    "    {'csvfile': \"C:/Corpora/subreddits/subreddits/theredpill/comments.csv\", 'outputFile': 'TrainedModels/trp_w4_f10_e100_d100', 'w':4, 'minf': 1000, 'epochs':10 ,'ndim':100},\n",
    "   # {'csvfile': \"C:/Corpora/subreddits/subreddits/theredpill/comments.csv\", 'outputFile': '../Models/trp_w4_f10_e100_d200', 'w':4, 'minf': 10, 'epochs':100 ,'ndim':200},\n",
    "   # {'csvfile': \"C:/Corpora/subreddits/subreddits/theredpill/comments.csv\", 'outputFile': '../Models/trp_w4_f10_e100_d300', 'w':4, 'minf': 10, 'epochs':100 ,'ndim':300},\n",
    "   # #different windows\n",
    "   # {'csvfile': \"C:/Corpora/subreddits/subreddits/theredpill/comments.csv\", 'outputFile': '../Models/trp_w3_f10_e100_d200', 'w':3, 'minf': 10, 'epochs':100 ,'ndim':200},\n",
    "   # {'csvfile': \"C:/Corpora/subreddits/subreddits/theredpill/comments.csv\", 'outputFile': '../Models/trp_w5_f10_e100_d200', 'w':5, 'minf': 10, 'epochs':100 ,'ndim':200},\n",
    "   # #different epochs \n",
    "   # {'csvfile': \"C:/Corpora/subreddits/subreddits/theredpill/comments.csv\", 'outputFile': '../Models/trp_w4_f10_e200_d200', 'w':4, 'minf': 10, 'epochs':200 ,'ndim':200},\n",
    "   # #different thresholds\n",
    "   # {'csvfile': \"C:/Corpora/subreddits/subreddits/theredpill/comments.csv\", 'outputFile': '../Models/trp_w4_f100_e100_d200', 'w':4, 'minf': 100, 'epochs':100 ,'ndim':200},\n",
    "   # {'csvfile': \"C:/Corpora/subreddits/subreddits/theredpill/comments.csv\", 'outputFile': '../Models/trp_w4_f1000_e100_d200', 'w':4, 'minf': 1000, 'epochs':100 ,'ndim':200}\n",
    "]\n",
    "\n",
    "for setup in trainingSetups:\n",
    "    DADDBias_ICWSM.TrainModel(setup['csvfile'], \n",
    "           'body',\n",
    "           outputname = setup['outputFile'],\n",
    "           window = setup['w'],\n",
    "           minf = setup['minf'],\n",
    "           epochs = setup['epochs'],\n",
    "           ndim = setup['ndim'],\n",
    "           )"
   ]
  },
  {
   "cell_type": "markdown",
   "metadata": {},
   "source": [
    "# Get Biases and Clusters "
   ]
  },
  {
   "cell_type": "code",
   "execution_count": 8,
   "metadata": {},
   "outputs": [],
   "source": [
    "female=[\"sister\" , \"female\" , \"woman\" , \"girl\" , \"daughter\" , \"she\" , \"hers\" , \"her\"]\n",
    "male=[\"brother\" , \"male\" , \"man\" , \"boy\" , \"son\" , \"he\" , \"his\" , \"him\"]  \n",
    "\n",
    "islam = [\"allah\", \"ramadan\", \"turban\", \"emir\", \"salaam\", \"sunni\", \"koran\", \"imam\", \"sultan\", \"prophet\", \"veil\", \"ayatollah\", \"shiite\", \"mosque\", \"islam\", \"sheik\", \"muslim\", \"muhammad\"]\n",
    "christian = [\"baptism\", \"messiah\", \"catholicism\", \"resurrection\", \"christianity\", \"salvation\", \"protestant\", \"gospel\", \"trinity\", \"jesus\", \"christ\", \"christian\", \"cross\", \"catholic\", \"church\"]\n",
    "\n",
    "white_names = [\"harris\", \"nelson\", \"robinson\", \"thompson\", \"moore\", \"wright\", \"anderson\", \"clark\", \"jackson\", \"taylor\", \"scott\", \"davis\", \"allen\", \"adams\", \"lewis\", \"williams\", \"jones\", \"wilson\", \"martin\", \"johnson\"]\n",
    "hispanic_names= [\"ruiz\", \"alvarez\", \"vargas\", \"castillo\", \"gomez\", \"soto\", \"gonzalez\", \"sanchez\", \"rivera\", \"mendoza\", \"martinez\", \"torres\", \"rodriguez\", \"perez\", \"lopez\", \"medina\", \"diaz\", \"garcia\", \"castro\", \"cruz\"]\n"
   ]
  },
  {
   "cell_type": "code",
   "execution_count": 44,
   "metadata": {
    "scrolled": true
   },
   "outputs": [
    {
     "name": "stdout",
     "output_type": "stream",
     "text": [
      "...0...100...200...300...400...500...600...700...800...900...1000...1100...1200...1300...1400...1500...1600...1700...1800...1900...2000...2100...2200...2300...2400...2500...2600...2700...2800...2900...3000...3100...3200...3300"
     ]
    }
   ],
   "source": [
    "[b1,b2] = DADDBias_ICWSM.GetTopMostBiasedWords('D:\\Projects\\WE-Reddit\\Corpora\\wemodels\\Reddit_models\\TRD_model',\n",
    "                                    #'TrainedModels/trp_w4_f10_e100_d100',\n",
    "                                    300,\n",
    "                                    female,\n",
    "                                    male,\n",
    "                                    ['JJ','JJR','JJS'],\n",
    "                                    True)"
   ]
  },
  {
   "cell_type": "code",
   "execution_count": 38,
   "metadata": {},
   "outputs": [
    {
     "name": "stdout",
     "output_type": "stream",
     "text": [
      "['bumble', 'casual', 'flirtatious', 'anal', 'okcupid', 'fuckable', 'unicorn', 'exclusive', 'chic', 'prospective', 'unprotected', 'bangable', 'dateable', 'rendezvous', 'unfriended', 'vaginal', 'countable', 'hypergamous', 'lesbian', 'unfollowed', 'marryable', 'probationary', 'plausible', 'validational', 'exlusive', 'mutual', 'frivilous', 'upscale', 'interracial', 'polycystic']\n",
      "['visionary', 'quintessential', 'tactician', 'bombastic', 'leary', 'gurian', 'legendary', 'pastoral', 'seminary', 'prussian', 'genious', 'politican', 'archetypical', 'impoverish', 'entrepreneurial', 'disciplinarian', 'fanatic', 'inspirational', 'manliest', 'vespasian', 'mightiest', 'unite', 'fabian', 'electoral', 'pappy', 'unshakable', 'undisputed', 'crucible', 'comic', 'androgenous']\n"
     ]
    }
   ],
   "source": [
    "print( [b['word'] for b in b1[:30]] )\n",
    "print( [b['word'] for b in b2[:30]] )"
   ]
  },
  {
   "cell_type": "code",
   "execution_count": 45,
   "metadata": {},
   "outputs": [
    {
     "data": {
      "text/plain": [
       "{'word': 'bumble',\n",
       " 'bias': 0.2459341137646729,\n",
       " 'freq': 648,\n",
       " 'pos': 'JJ',\n",
       " 'wv': array([ 0.21105714,  1.3273071 ,  2.8867698 ,  1.2483313 , -0.70877326,\n",
       "         1.3425597 , -0.03573856,  0.827451  ,  1.1608169 ,  0.6615384 ,\n",
       "         0.39613965, -1.3114338 , -0.35420766, -3.3903995 ,  1.5082917 ,\n",
       "         0.8445326 , -1.2038773 ,  1.4695886 , -0.08173653, -4.099623  ,\n",
       "         1.3290391 , -0.91489   , -2.6174135 , -0.9529453 , -0.88371783,\n",
       "        -0.6488136 ,  1.5098532 ,  0.8854026 ,  0.16110392,  0.4351127 ,\n",
       "         1.0309708 ,  0.7339872 , -1.1275269 ,  0.8526273 ,  1.5834562 ,\n",
       "         3.0183313 , -1.6963943 ,  0.43937108,  2.539944  , -0.7871518 ,\n",
       "        -2.0761487 ,  0.20136929,  0.6827394 ,  2.1040757 , -0.31474128,\n",
       "         0.33106935, -0.2853888 ,  0.24098773,  1.2633651 ,  0.8399754 ,\n",
       "        -2.6875477 ,  0.31419796,  0.40442574, -0.4829739 ,  0.7632194 ,\n",
       "        -1.3455712 , -1.7704277 ,  0.59753627,  0.41059625, -0.91487205,\n",
       "        -2.2498722 ,  1.5109055 , -1.6136421 , -3.4558096 ,  0.7632762 ,\n",
       "        -0.25157544,  2.049648  , -0.0054835 ,  0.8083561 ,  0.9599268 ,\n",
       "         0.29764852,  1.9866623 ,  1.8630426 , -1.9129437 ,  2.0223224 ,\n",
       "         0.5981954 ,  0.21390301, -0.33605272, -1.1492476 , -0.1884344 ,\n",
       "        -0.32092008,  2.126618  , -1.8032043 , -0.91599524, -2.2505553 ,\n",
       "         0.8854643 ,  0.4921952 ,  0.1323571 ,  0.35636455, -2.975452  ,\n",
       "        -1.004151  , -2.70008   ,  1.9145547 ,  3.931955  ,  1.8492777 ,\n",
       "         2.3480158 ,  1.9838718 , -0.85287756, -0.7534376 ,  1.1733013 ,\n",
       "         0.5685875 ,  1.1911598 , -0.7053802 ,  0.93248206, -0.18330754,\n",
       "        -1.5913583 ,  0.4244746 , -0.02087919,  0.23379359, -0.7428797 ,\n",
       "        -1.9716129 , -0.66521156, -1.1651504 , -0.67142355, -0.92623174,\n",
       "         1.6441363 , -0.79301614,  1.4308636 ,  3.2598314 , -0.03304921,\n",
       "        -0.32608873, -0.03988016, -0.4303617 , -2.6765676 ,  0.5126398 ,\n",
       "         0.47909278, -0.53416806,  4.666351  , -0.572189  ,  1.0039023 ,\n",
       "         1.4064432 , -1.1364499 ,  0.04177849,  0.30887926, -0.2556644 ,\n",
       "        -0.7069082 ,  2.542862  ,  1.5145943 ,  0.73538023, -1.5779413 ,\n",
       "        -2.1341925 , -1.137773  ,  0.05970694,  1.5409037 , -0.20170099,\n",
       "        -0.47881272, -1.0097625 ,  1.3030441 ,  1.1771557 ,  1.2118477 ,\n",
       "         0.9913515 ,  0.56279063, -2.2861593 ,  0.6114481 , -0.9027819 ,\n",
       "        -1.472653  ,  0.37094095, -1.2381369 , -1.4609107 ,  2.1151547 ,\n",
       "         0.28760695, -2.4110174 , -1.9481567 , -0.80220217,  3.0446165 ,\n",
       "        -1.4470793 ,  0.5200914 ,  0.0279229 ,  2.28368   , -0.9529725 ,\n",
       "         1.1770978 , -0.06710187,  0.40179205,  2.0053284 ,  0.20069158,\n",
       "         1.4206239 ,  2.5997455 , -0.6048797 ,  1.504894  , -1.405335  ,\n",
       "         2.110114  , -1.3929225 ,  1.9932561 ,  2.038275  , -0.7133077 ,\n",
       "        -0.8544682 , -3.4108431 ,  0.5517301 , -0.4524299 ,  3.4319704 ,\n",
       "         0.16450685, -2.3439202 ,  0.0426901 ,  2.3137326 ,  0.20851372,\n",
       "         0.10854081, -1.7035977 ,  0.381558  , -0.12332521, -0.42439732],\n",
       "       dtype=float32),\n",
       " 'rank': 8778,\n",
       " 'sent': 0.0}"
      ]
     },
     "execution_count": 45,
     "metadata": {},
     "output_type": "execute_result"
    }
   ],
   "source": [
    "b1[0]"
   ]
  },
  {
   "cell_type": "markdown",
   "metadata": {},
   "source": [
    "# Cluster"
   ]
  },
  {
   "cell_type": "code",
   "execution_count": 76,
   "metadata": {},
   "outputs": [
    {
     "name": "stderr",
     "output_type": "stream",
     "text": [
      "[nltk_data] Downloading package averaged_perceptron_tagger to\n",
      "[nltk_data]     C:\\Users\\User\\AppData\\Roaming\\nltk_data...\n",
      "[nltk_data]   Package averaged_perceptron_tagger is already up-to-\n",
      "[nltk_data]       date!\n",
      "[nltk_data] Downloading package vader_lexicon to\n",
      "[nltk_data]     C:\\Users\\User\\AppData\\Roaming\\nltk_data...\n",
      "[nltk_data]   Package vader_lexicon is already up-to-date!\n"
     ]
    },
    {
     "data": {
      "text/plain": [
       "<module 'DADDBias_ICWSM' from 'D:\\\\Projects\\\\LanguageBiasesInReddit-ICWSM20201\\\\Process\\\\ICWSMProcess\\\\DADDBias_ICWSM.py'>"
      ]
     },
     "execution_count": 76,
     "metadata": {},
     "output_type": "execute_result"
    }
   ],
   "source": [
    "from importlib import reload\n",
    "import DADDBias_ICWSM\n",
    "reload(DADDBias_ICWSM)"
   ]
  },
  {
   "cell_type": "code",
   "execution_count": 77,
   "metadata": {},
   "outputs": [
    {
     "name": "stdout",
     "output_type": "stream",
     "text": [
      "New partition for ts1, intrasim:  0.2622191678064262\n",
      "New partition for ts2, intrasim:  0.1533840526760398\n",
      "New partition for ts1, intrasim:  0.3010478426941653\n",
      "New partition for ts2, intrasim:  0.15080235656474172\n",
      "New partition for ts1, intrasim:  0.2712047750863617\n",
      "New partition for ts2, intrasim:  0.16396199296732103\n",
      "New partition for ts1, intrasim:  0.31909614749519827\n",
      "New partition for ts2, intrasim:  0.15029618616984283\n",
      "New partition for ts1, intrasim:  0.2663020151057413\n",
      "New partition for ts2, intrasim:  0.17750140179442486\n",
      "New partition for ts1, intrasim:  0.2710294028636315\n",
      "New partition for ts2, intrasim:  0.13695131242819686\n",
      "New partition for ts1, intrasim:  0.33259541986662466\n",
      "New partition for ts2, intrasim:  0.12253294392537087\n",
      "New partition for ts1, intrasim:  0.3147465597799867\n",
      "New partition for ts2, intrasim:  0.1491026548029532\n",
      "New partition for ts1, intrasim:  0.2624289894927968\n",
      "New partition for ts2, intrasim:  0.14098174752229922\n",
      "New partition for ts1, intrasim:  0.2775778675872792\n",
      "New partition for ts2, intrasim:  0.17952940797556857\n",
      "[*] Intrasim of best partition found for ts1,  0.33259541986662466\n",
      "[*] Intrasim of best partition found for ts2,  0.17952940797556857\n"
     ]
    }
   ],
   "source": [
    "[cl1,cl2] = DADDBias_ICWSM.Cluster(b1,b2, 0.15, 100)"
   ]
  },
  {
   "cell_type": "code",
   "execution_count": 79,
   "metadata": {},
   "outputs": [
    {
     "name": "stdout",
     "output_type": "stream",
     "text": [
      "45\n",
      "['orgasmic']\n",
      "['deniable', 'unsubtle']\n",
      "['undateable', 'unmarriageable']\n",
      "['subconscious', 'nonverbal', 'visual', 'aural']\n",
      "['lesbian', 'pansexual', 'hypersexual', 'promiscous', 'tolerable', 'ubiquitous', 'desireable', 'bisexual', 'exotic', 'unnatractive', 'broad', 'voluptuous', 'amorous', 'uncommon', 'symmetrical', 'normal', 'single', 'dippy', 'gross']\n",
      "['hypergamous', 'promiscuous', 'unfaithful']\n",
      "['mutual', 'reciprocal', 'transactional', 'conditional', 'romantic']\n",
      "['interested']\n",
      "['upscale', 'inexpensive', 'unannounced', 'trashcan', 'tropical', 'olive', 'microwavable', 'underwear', 'deductible', 'nutritious', 'delicious', 'unattended', 'sanitary', 'soluble', 'warmest', 'ceramic', 'artisanal']\n",
      "['colombian', 'taiwanese', 'gorgeous', 'ukrainian']\n",
      "['last']\n",
      "['fuckable', 'unicorn', 'bangable', 'dateable', 'hideous', 'virginal', 'datable', 'hot', 'unfuckable', 'marriageable']\n",
      "['sexual']\n",
      "['bumble', 'okcupid']\n",
      "['unlikely', 'improbable']\n",
      "['negotiable', 'variable', 'stochastic', 'atmospheric', 'reproducible', 'discretionary', 'sequential', 'logistical', 'consecutive', 'synergistic', 'initial', 'logistic', 'formal', 'spacial', 'temporal', 'inconclusive', 'gaussian', 'statistical', 'negligible']\n",
      "['plausible', 'erratic', 'capricious', 'dualistic', 'unapproachable', 'adorable', 'symptomatic', 'replaceable', 'duplicitous', 'dishonourable', 'solopsistic', 'solipsistic', 'alarmed', 'unloyal', 'vacuous', 'illogical', 'special', 'devious', 'solipistic', 'explainable', 'embellish', 'categorical', 'interchangeable', 'unfathomable', 'amenable', 'sollipsistic', 'uptight', 'sensical', 'knowable', 'unverifiable', 'hypergamistic', 'intrusive', 'legalese', 'presumptuous', 'relativistic', 'snippy', 'implausible', 'spurious', 'overactive', 'uninhibited', 'inconvenienced', 'trainable', 'judicious']\n",
      "['exclusive', 'compatible', 'incompatible']\n",
      "['admissible', 'inadmissible']\n",
      "['busy']\n",
      "['uneasy', 'risky', 'suspicious', 'apprehensive']\n",
      "['favorable', 'suitable']\n",
      "['unsatisfied', 'satisfied']\n",
      "['ambiguous', 'evasive', 'amicable', 'innocuous']\n",
      "['unprotected', 'vaginal', 'uninfected', 'unplanned', 'ovarian', 'unwanted', 'clitoral', 'asymptomatic', 'menstrual', 'cervical', 'mucous', 'erogenous', 'undetectable', 'imbalanced']\n",
      "['open']\n",
      "['approachable', 'enthusiastic', 'appreciative', 'personable', 'courteous', 'enjoyable', 'attentive']\n",
      "['unacceptable', 'permissible', 'excusable', 'acceptable', 'reprehensible']\n",
      "['flirtatious', 'uninterested', 'unresponsive', 'unavailable', 'unimpressed']\n",
      "['casual', 'sensual', 'spontaneous', 'pleasurable']\n",
      "['monogamous', 'polyamorous', 'polygamous']\n",
      "['consensual']\n",
      "['flat']\n",
      "['arbitrary']\n",
      "['superficial', 'unimportant', 'trivial', 'changeable', 'frivolous']\n",
      "['unfriended', 'unfollowed', 'unfollow']\n",
      "['chic', 'prospective', 'rendezvous', 'countable', 'marryable', 'probationary', 'validational', 'exlusive', 'frivilous', 'polycystic', 'habitable', 'gstatic', 'interacial', 'haaappy', 'undressed', 'wifeable', 'likeliest', 'unblocked', 'unaccepted', 'uninstalled', 'underdressed', 'unprompted', 'pleasureable', 'third', 'ignorable', 'mcdouble', 'overdrive', 'inhabitable', 'demisexual', 'unreciprocated', 'premenstrual', 'unreturned', 'onlinelibrary', 'unaccounted', 'plausable', 'second', 'nonsexual', 'upgraded', 'unmarriable', 'ecstatic', 'unzipped', 'retroactive', 'perishable', 'rescan', 'insubstantial', 'underbite', 'livejournal', 'hydrostatic', 'sarkessian', 'oddest', 'fungible', 'sesquipedalian', 'equivocal', 'salacious', 'unsolicited', 'dispensable', 'unasked', 'potable', 'unobtrusive', 'walkable', 'ridicolous', 'guyanese', 'ironical', 'nonmarital', 'underaged', 'unwrapped', 'uncountable', 'upworthy', 'haptic', 'semantical', 'lowish', 'measureable', 'offmychest', 'eveniet', 'condemnable', 'confortable', 'unanswered', 'unescorted', 'breathable', 'underactive', 'vivacious', 'fortuitous', 'transnational', 'unmistakeable']\n",
      "['untrustworthy', 'unreliable']\n",
      "['naked']\n",
      "['unreasonable', 'unrealistic']\n",
      "['lower']\n",
      "['anal', 'oral']\n",
      "['interracial']\n",
      "['neurochemical', 'physiological']\n",
      "['dimorphic']\n"
     ]
    }
   ],
   "source": [
    "print(len(cl1))\n",
    "for cluster in cl1:\n",
    "    print( [k['word'] for k in cluster] )"
   ]
  },
  {
   "cell_type": "code",
   "execution_count": 80,
   "metadata": {},
   "outputs": [
    {
     "name": "stdout",
     "output_type": "stream",
     "text": [
      "45\n",
      "['usurped', 'undermined']\n",
      "['unshakable', 'indomitable', 'indestructible', 'unstoppable', 'unmovable', 'unbreakable']\n",
      "['legendary', 'manliest', 'mightiest', 'undisputed', 'crucible', 'victorious', 'ferocious', 'thunderous', 'resemble', 'alive', 'corporal', 'glorious', 'undefeated', 'unprepared', 'celtic', 'neccessary', 'formidable', 'unaccustomed', 'veritable', 'nimble', 'unconquerable', 'ancestral', 'perilous', 'maltese']\n",
      "['quintessential', 'penitentiary', 'ultimate', 'hippocratic', 'unadorned', 'aboriginal', 'imaginable', 'undiluted']\n",
      "['comic', 'foppish', 'metrosexual', 'fictional', 'venusian']\n",
      "['entrepreneurial', 'artistic', 'literary']\n",
      "['bombastic', 'eccentric', 'ascetic', 'charasmatic', 'unapologetic', 'impassive', 'rebellious', 'sycophantic', 'arrogant', 'industrious', 'egotistic', 'skeptic', 'lovable', 'eunuch', 'humble', 'authentic']\n",
      "['rich', 'famous']\n",
      "['describable', 'lowliest', 'inasmuch', 'bendable', 'unformed', 'wrest']\n",
      "['military']\n",
      "['electoral']\n",
      "['geopolitical']\n",
      "['impoverish', 'disciplinarian', 'androgenous', 'yuppy', 'murderous', 'pathethic', 'disciplinary', 'unrefined', 'continous', 'ignoble', 'intercultural', 'pusillanimous', 'cretinous', 'stoical', 'pancreatic', 'fascistic', 'unstifled', 'ineffectual', 'egomaniacal', 'untameable', 'appliable', 'undirected', 'pyschological', 'unexamined', 'antarctic', 'unspectacular', 'inimical', 'unathletic', 'atheletic', 'loneliest', 'phisical', 'unneeded', 'neuromuscular', 'poppy', 'bearish', 'unrequited', 'untrained', 'undersexed', 'recognisable', 'unintelligible', 'bullish', 'psychosexual', 'indispensible', 'unmarked', 'unpatriotic', 'acomplish', 'untempered', 'carnivorous', 'mandible', 'sublingual', 'rightous', 'unfruitful', 'nontechnical', 'illusive', 'heirarchical', 'unpolished', 'pedagogical', 'terroristic', 'unamerican', 'shitcan', 'phlegmatic', 'engrish', 'orgiastic', 'extinguish', 'unlearned', 'phenotypical', 'undomesticated']\n",
      "['german', 'british']\n",
      "['poor']\n",
      "['soviet']\n",
      "['weak', 'strong']\n",
      "['unpopular', 'popular']\n",
      "['solitary']\n",
      "['natural']\n",
      "['tactician', 'leary', 'gurian', 'genious', 'politican', 'pappy', 'grandpappy', 'tyrese', 'sebastian', 'singletary', 'venerable', 'manual', 'unscripted', 'ian', 'neoreactionsafe', 'obituary', 'villian', 'inaugural', 'buble', 'logician', 'seminal', 'scorsese', 'grecian', 'finacial', 'dorian', 'tuscan', 'illimitable', 'infomercial', 'huxtable', 'posthumous', 'tastic', 'djbible', 'cappy']\n",
      "['sacrificial']\n",
      "['binaural']\n",
      "['ethic']\n",
      "['pastoral', 'seminary', 'prussian', 'vespasian', 'unite', 'fabian', 'illustrious', 'imperialistic', 'patriotic', 'napolean', 'paramilitary', 'scholastic', 'autocratic', 'patrician', 'diocletian', 'revolutionary', 'athenian', 'nichomachean', 'treasonous', 'humanitarian', 'octavian', 'serbian', 'galactic', 'contiguous', 'despotic', 'neoconservative', 'noblest', 'senatorial', 'peloponnesian', 'imperial', 'hellenistic', 'anglican', 'barbarous']\n",
      "['musical']\n",
      "['united']\n",
      "['national']\n",
      "['visionary', 'archetypical', 'fanatic', 'inspirational', 'impregnable', 'admiral', 'aspirational', 'anarchic', 'influencial', 'unlicensed', 'instrumental', 'armored', 'underprivileged', 'admirable', 'unquestionable', 'meritorious', 'organizational', 'innovative', 'veterinary', 'unaffiliated', 'exemplary', 'underrated', 'unassailable', 'neglectful', 'adoptive', 'vocational', 'unrewarded', 'ultra', 'intergalactic', 'unenviable', 'evolutional']\n",
      "['electrician']\n",
      "['influential', 'powerful']\n",
      "['tremendous']\n",
      "['neoreactionary', 'luciferian', 'soral', 'supplementary', 'instructional', 'lacan', 'foundational', 'humanistic', 'lacanian', 'nietzschean', 'politcal', 'prophetic', 'philosophic', 'plebian', 'philisophical', 'syncretic', 'mystic', 'minimalistic', 'darwinistic', 'tactical', 'atheistic', 'ontological', 'antithetical', 'hermetic', 'metaphorical']\n",
      "['authoritarian', 'tyrannical']\n",
      "['noble']\n",
      "['authoritative', 'assertive']\n",
      "['adrian']\n",
      "['tough']\n",
      "['charismatic', 'successful', 'ambitious']\n",
      "['presidential']\n",
      "['palestinian']\n",
      "['aristocratic']\n",
      "['courageous']\n",
      "['subdue']\n",
      "['injured']\n"
     ]
    }
   ],
   "source": [
    "print(len(cl2))\n",
    "for cluster in cl2:\n",
    "    print( [k['word'] for k in cluster] )"
   ]
  },
  {
   "cell_type": "code",
   "execution_count": null,
   "metadata": {},
   "outputs": [],
   "source": []
  }
 ],
 "metadata": {
  "kernelspec": {
   "display_name": "Python 3",
   "language": "python",
   "name": "python3"
  },
  "language_info": {
   "codemirror_mode": {
    "name": "ipython",
    "version": 3
   },
   "file_extension": ".py",
   "mimetype": "text/x-python",
   "name": "python",
   "nbconvert_exporter": "python",
   "pygments_lexer": "ipython3",
   "version": "3.7.3"
  }
 },
 "nbformat": 4,
 "nbformat_minor": 2
}
